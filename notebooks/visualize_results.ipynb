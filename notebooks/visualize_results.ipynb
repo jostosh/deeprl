{
 "cells": [
  {
   "cell_type": "code",
   "execution_count": 1,
   "metadata": {
    "collapsed": true,
    "deletable": true,
    "editable": true
   },
   "outputs": [],
   "source": [
    "%matplotlib inline\n",
    "import pandas as pd\n",
    "import os\n",
    "import matplotlib.pyplot as plt\n",
    "import matplotlib\n",
    "matplotlib.style.use('ggplot')"
   ]
  },
  {
   "cell_type": "code",
   "execution_count": 2,
   "metadata": {
    "collapsed": false,
    "deletable": true,
    "editable": true
   },
   "outputs": [
    {
     "name": "stdout",
     "output_type": "stream",
     "text": [
      "['parallel_dense', 'cross_default', 'parallel_n01', 'parallel_m3', 'adam2', 'l2', 'yellow2', 'parallel_m2', 'yellow1', 'parallel_n02', 'parallel_multi_range', 'parallel_multi_range_tr', 'test', 'parallel_n0001', 'parallel_m1', 'parallel_default', 'parallel_m0']\n"
     ]
    }
   ],
   "source": [
    "print(os.listdir('./tensorboardlogs'))\n",
    "\n",
    "dfs = []\n",
    "for path in os.listdir('./tensorboardlogs'):\n",
    "    for run in os.listdir(os.path.join('./tensorboardlogs', path)):\n",
    "        fnm = os.path.join('./tensorboardlogs', path, run, 'results.csv')\n",
    "        if not os.path.exists(fnm):\n",
    "            continue\n",
    "        df = pd.read_csv(fnm)\n",
    "        df['model'] = path\n",
    "        dfs.append(df)\n"
   ]
  },
  {
   "cell_type": "code",
   "execution_count": 3,
   "metadata": {
    "collapsed": true,
    "deletable": true,
    "editable": true
   },
   "outputs": [],
   "source": [
    "df = pd.concat(dfs)"
   ]
  },
  {
   "cell_type": "code",
   "execution_count": 4,
   "metadata": {
    "collapsed": true,
    "deletable": true,
    "editable": true
   },
   "outputs": [],
   "source": [
    "# Get rid of tests\n",
    "df = df[df['model'] != 'test']"
   ]
  },
  {
   "cell_type": "code",
   "execution_count": 5,
   "metadata": {
    "collapsed": true,
    "deletable": true,
    "editable": true
   },
   "outputs": [],
   "source": [
    "averages = df.groupby(('epoch','model')).mean().reset_index()\n",
    "stds = df.groupby(('epoch', 'model')).std().reset_index()"
   ]
  },
  {
   "cell_type": "code",
   "execution_count": 6,
   "metadata": {
    "collapsed": true,
    "deletable": true,
    "editable": true
   },
   "outputs": [],
   "source": [
    "avg_pv = averages.pivot(index='epoch', columns='model')"
   ]
  },
  {
   "cell_type": "code",
   "execution_count": 25,
   "metadata": {
    "collapsed": false,
    "deletable": true,
    "editable": true
   },
   "outputs": [
    {
     "data": {
      "text/plain": [
       "<matplotlib.axes._subplots.AxesSubplot at 0x7f7fb8a474e0>"
      ]
     },
     "execution_count": 25,
     "metadata": {},
     "output_type": "execute_result"
    },
    {
     "data": {
      "image/png": "[encoded data removed]",
      "text/plain": [
       "<matplotlib.figure.Figure at 0x7f7fb8858cc0>"
      ]
     },
     "metadata": {},
     "output_type": "display_data"
    }
   ],
   "source": [
    "merge_point = avg_pv['mse'][['parallel_m0', 'parallel_m1', 'parallel_m2', 'parallel_m3', 'parallel_default']][200:]\n",
    "renaming = {'parallel_m0': \"Merge at 0\", 'parallel_m1': \"Merge at 1\", 'parallel_m2': \"Merge at 2\", 'parallel_m3': \"Merge at 3\", 'parallel_default': \"Merge at 4\"}\n",
    "merge_point.rename(columns=renaming, inplace=True)\n",
    "merge_point.boxplot()\n"
   ]
  },
  {
   "cell_type": "code",
   "execution_count": 14,
   "metadata": {
    "collapsed": true,
    "deletable": true,
    "editable": true
   },
   "outputs": [],
   "source": [
    "def plot_results(df, renaming, from_idx=200, xlabel='', rotation=0):\n",
    "    subset = df['mse'][list(renaming.keys())][from_idx:]\n",
    "    subset.rename(columns=renaming, inplace=True)\n",
    "    subset.mean(axis=0).plot.bar(yerr=subset.std(axis=0))\n",
    "    ax = plt.gca()\n",
    "    ax.set_xlabel('')\n",
    "    ax.set_ylabel('MSE')\n",
    "    plt.setp( ax.xaxis.get_majorticklabels(), rotation=rotation)"
   ]
  },
  {
   "cell_type": "code",
   "execution_count": 8,
   "metadata": {
    "collapsed": false,
    "deletable": true,
    "editable": true
   },
   "outputs": [
    {
     "data": {
      "image/png": "[encoded data removed]",
      "text/plain": [
       "<matplotlib.figure.Figure at 0x7f5048021518>"
      ]
     },
     "metadata": {},
     "output_type": "display_data"
    }
   ],
   "source": [
    "plot_results(avg_pv, {'parallel_default': \"Convolutional\", \"cross_default\": \"Fully connected\"})"
   ]
  },
  {
   "cell_type": "code",
   "execution_count": 9,
   "metadata": {
    "collapsed": false,
    "deletable": true,
    "editable": true
   },
   "outputs": [
    {
     "data": {
      "image/png": "[encoded data removed]",
      "text/plain": [
       "<matplotlib.figure.Figure at 0x7f50480214a8>"
      ]
     },
     "metadata": {},
     "output_type": "display_data"
    }
   ],
   "source": [
    "plot_results(avg_pv, {'parallel_m0': \"Merge at 0\", 'parallel_m1': \"Merge at 1\", 'parallel_m2': \"Merge at 2\", \n",
    "                      'parallel_m3': \"Merge at 3\", 'parallel_default': \"Merge at 4\"})"
   ]
  },
  {
   "cell_type": "code",
   "execution_count": 10,
   "metadata": {
    "collapsed": false,
    "deletable": true,
    "editable": true
   },
   "outputs": [
    {
     "data": {
      "image/png": "[encoded data removed]",
      "text/plain": [
       "<matplotlib.figure.Figure at 0x7f5043c1f3c8>"
      ]
     },
     "metadata": {},
     "output_type": "display_data"
    }
   ],
   "source": [
    "plot_results(avg_pv, {'parallel_default': \"$0.001\\sigma$\", 'parallel_n01': \"$0.01\\sigma$\", \n",
    "                      \"parallel_n0001\": \"$0.0001\\sigma$\", 'parallel_n02': \"$0.02\\sigma$\"})"
   ]
  },
  {
   "cell_type": "code",
   "execution_count": 16,
   "metadata": {
    "collapsed": false,
    "deletable": true,
    "editable": true
   },
   "outputs": [
    {
     "data": {
      "image/png": "[encoded data removed]",
      "text/plain": [
       "<matplotlib.figure.Figure at 0x7f50470fb828>"
      ]
     },
     "metadata": {},
     "output_type": "display_data"
    }
   ],
   "source": [
    "avg_pv.columns\n",
    "plot_results(avg_pv, {'parallel_default': \"Adam $\\eta=0.001$\", 'adam2': \"Adam $\\eta=0.005$\"}, rotation=90)"
   ]
  },
  {
   "cell_type": "code",
   "execution_count": 25,
   "metadata": {
    "collapsed": false,
    "deletable": true,
    "editable": true
   },
   "outputs": [
    {
     "data": {
      "image/png": "[encoded data removed]",
      "text/plain": [
       "<matplotlib.figure.Figure at 0x7f5047a84ef0>"
      ]
     },
     "metadata": {},
     "output_type": "display_data"
    }
   ],
   "source": [
    "plot_results(avg_pv, {'parallel_default': \"Default\", 'parallel_multi_range': \"Multi-scale\",\n",
    "                      'parallel_multi_range_tr': \"Multi-scale trainable\"}, rotation=0)"
   ]
  },
  {
   "cell_type": "code",
   "execution_count": 22,
   "metadata": {
    "collapsed": true,
    "deletable": true,
    "editable": true
   },
   "outputs": [],
   "source": [
    "pmr = df[df['model'] == 'parallel_multi_range']"
   ]
  },
  {
   "cell_type": "code",
   "execution_count": 27,
   "metadata": {
    "collapsed": false,
    "deletable": true,
    "editable": true
   },
   "outputs": [
    {
     "data": {
      "text/plain": [
       "0.00030361540634493499"
      ]
     },
     "execution_count": 27,
     "metadata": {},
     "output_type": "execute_result"
    }
   ],
   "source": [
    "pmr[pmr['epoch'] == 249]['mse'].std()"
   ]
  }
 ],
 "metadata": {
  "kernelspec": {
   "display_name": "Python [default]",
   "language": "python",
   "name": "python3"
  },
  "language_info": {
   "codemirror_mode": {
    "name": "ipython",
    "version": 3
   },
   "file_extension": ".py",
   "mimetype": "text/x-python",
   "name": "python",
   "nbconvert_exporter": "python",
   "pygments_lexer": "ipython3",
   "version": "3.5.2"
  }
 },
 "nbformat": 4,
 "nbformat_minor": 2
}
